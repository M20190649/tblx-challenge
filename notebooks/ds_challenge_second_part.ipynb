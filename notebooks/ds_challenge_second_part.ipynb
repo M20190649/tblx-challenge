{
 "cells": [
  {
   "cell_type": "markdown",
   "metadata": {},
   "source": [
    "# tb.lx Data Science Challenge - Part II\n",
    "----\n",
    "----\n",
    "## Introduction\n",
    "\n",
    "Dear applicant,\n",
    "\n",
    "Congratulations on passing the first screening! We’re excited to get to know you better and get a better feeling of your competences. In this round, we will test you on your problem-solving skills and data science experience by giving you a case to solve.\n",
    "\n",
    "After handing us over your solution, we will review it and let you know our feedback. In the case you have passed, you will be called to an on-site interview. During the interview, you’ll get the opportunity to explain your solution and the steps that you took to get there. We've prepared this notebook for you, to help you walk us through your ideas and decisions.\n",
    "\n",
    "If you're not able to fully solve the case, please elaborate as precisely as you can:\n",
    "\n",
    "- Which next steps you'd be taking;\n",
    "- Which problems you'd be foreseeing there and how you'd solve those.\n",
    "\n",
    "In case you have any questions, feel free to contact ana.cunha@daimler.com or sara.gorjao@daimler.com for any more info. \n",
    "\n",
    "Best of luck!\n",
    "\n",
    "## Context:\n",
    "\n",
    "Predictive Maintenance is one of the hottest topics in the heavy-industry field. The ability to detect failures before they happen is of utmost importance, as it enables the full utilization of materials saving in unnecessary early replacements, and enables optimizations in maintenance planning reducing the downtime.\n",
    "\n",
    "\n",
    "## Data:\n",
    "\n",
    "One of the challenges in the auto-tech industry is to detect failures before they happen. For this, we included a dataset including:\n",
    "* `telemetry.csv`: Consists of a dataset with sensor values along time\n",
    "* `faults.csv`: Consists of a dataset with faults for each machine along time.\n",
    "* `errors.csv`: Consists of a dataset with errors for each machine along time.\n",
    "* `machines.csv`: Consists of a dataset with features for each machine. \n",
    "\n",
    "\n",
    "## Task:\n",
    "\n",
    "In the second part of the challenge, we would like to know that a failure is going to happen before it actually happens. The decision of the prediction horizon is totally up to you, **but the goal is to predict failures before they happen**.\n",
    "\n",
    "\n",
    "## Questions:\n",
    "\n",
    "Follows a set of theoretical questions:\n",
    "\n",
    "1. How can you create a machine learning model that leverages all the data that we provided whilst adapting to the specificities of each turbine (e.g., operating in different weather conditions)?\n",
    "2. Modeling the normal behaviour of such machines can prove itself to be a good feature. After training a model that captures the normal turbine dynamics, we need to decide when the displayed behaviour may be considered an anomaly or not. How can one design a framework that creates alerts for abnormality without overloading the end-user with too many false positives?\n",
    "3. How would you measure aleatoric uncertainty of the predictions of your model?\n",
    "\n",
    "## Requirements:\n",
    "\n",
    "- Solution implemented in Python3.6+;\n",
    "- Provide requirements.txt to test the solution in the same environment;\n",
    "- Write well structured, documented, maintainable code;\n",
    "- Write sanity checks to test the different steps of the pipeline;"
   ]
  },
  {
   "cell_type": "code",
   "execution_count": null,
   "metadata": {},
   "outputs": [],
   "source": []
  },
  {
   "cell_type": "code",
   "execution_count": null,
   "metadata": {},
   "outputs": [],
   "source": []
  },
  {
   "cell_type": "code",
   "execution_count": null,
   "metadata": {},
   "outputs": [],
   "source": []
  }
 ],
 "metadata": {
  "kernelspec": {
   "display_name": "Python 3",
   "language": "python",
   "name": "python3"
  },
  "language_info": {
   "codemirror_mode": {
    "name": "ipython",
    "version": 3
   },
   "file_extension": ".py",
   "mimetype": "text/x-python",
   "name": "python",
   "nbconvert_exporter": "python",
   "pygments_lexer": "ipython3",
   "version": "3.7.5"
  }
 },
 "nbformat": 4,
 "nbformat_minor": 4
}
