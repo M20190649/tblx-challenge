{
 "cells": [
  {
   "cell_type": "markdown",
   "metadata": {},
   "source": [
    "# tb.lx Data Science Challenge - Part I\n",
    "----\n",
    "----\n",
    "## Introduction\n",
    "\n",
    "Dear applicant,\n",
    "\n",
    "Congratulations on passing the first screening! We’re excited to get to know you better and get a better feeling of your competences. In this round, we will test you on your problem-solving skills and data science experience by giving you a case to solve.\n",
    "\n",
    "After handing us over your solution, we will review it and let you know our feedback. In the case you have passed, you will be called to an on-site interview. During the interview, you’ll get the opportunity to explain your solution and the steps that you took to get there. We've prepared this notebook for you, to help you walk us through your ideas and decisions.\n",
    "\n",
    "If you're not able to fully solve the case, please elaborate as precisely as you can:\n",
    "\n",
    "- Which next steps you'd be taking;\n",
    "- Which problems you'd be foreseeing there and how you'd solve those.\n",
    "\n",
    "In case you have any questions, feel free to contact ana.cunha@daimler.com or sara.gorjao@daimler.com for any more info. \n",
    "\n",
    "Best of luck!\n",
    "\n",
    "## Context\n",
    "\n",
    "Working with GPS data is part of tb.lx day to day life. We need to extract and analyze patterns from fleets in order to enable intelligence over it. Just by knowing the history of the position of vehicles (latitude, longitude, and timestamp) it is possible to answer the questions we ask below. Take into consideration the following concepts:\n",
    "\n",
    "**Frequently stopping location** - Delimited location where vehicles stop regularly with a specific purpose. In the trucks world it can be warehouses, fuel stations, rest locations, etc;\n",
    "\n",
    "**Trip** - This is what results of a vehicle that moved from a '*frequently stopping location A*' to a '*frequently stopping location B*'. To make it short let's say trip(A,B);\n",
    "\n",
    "**Trajectory** - Is the actual path of the vehicle that he took to make the *trip*(A,B);\n",
    "\n",
    "<img src=\"../images/concepts.png\" style=\"width: 700px;\"/>\n",
    "\n",
    "\n",
    "## Data:\n",
    "\n",
    "In this challenge, we ask you to perform simple analyses on a vehicle telematics dataset. The dataset to use in order to answer the questions can be found associated with the paper: [Vehicle Energy Dataset (VED), A Large-scale Dataset for Vehicle Energy Consumption Research](https://arxiv.org/abs/1905.02081).\n",
    "\n",
    "#### Important: You cannot use the `Trip` column for your calculations.\n",
    "\n",
    "## Tasks:\n",
    "\n",
    "1. How would you find the *frequently stopping locations* from the data?\n",
    "2. What is the most popular *frequently stopping location*? How many vehicles start or end their *trips* there? Please identify the *frequently stopping location* using its bounding box coordinates.\n",
    "3. What is the most frequent *trip*? How many statistically different *trajectories* make up this trip?\n",
    "4. What are the *trips* with the highest and lowest average speed?\n",
    "5. Discuss the anonymization process used by the dataset authors. Are there any obvious flaws? Can you devise a way to counter it?\n",
    "\n",
    "\n",
    "## Requirements:\n",
    "\n",
    "- Solution implemented in Python3.6+;\n",
    "- Provide requirements.txt to test the solution in the same environment;\n",
    "- Write well structured, documented, maintainable code;\n",
    "- Write sanity checks to test the different steps of the pipeline;"
   ]
  },
  {
   "cell_type": "code",
   "execution_count": 1,
   "metadata": {},
   "outputs": [],
   "source": [
    "import pyspark\n",
    "from pyspark.sql import *\n",
    "from pyspark.sql.types import *\n",
    "from pyspark.sql.functions import *\n",
    "from pyspark.sql import SparkSession\n",
    "\n",
    "# Defining spark session and context\n",
    "spark = SparkSession.builder \\\n",
    "           .master('local[*]') \\\n",
    "           .appName('tblx') \\\n",
    "           .getOrCreate()\n",
    "\n",
    "sc = spark.sparkContext\n",
    "\n",
    "# Define the correct schema for the columns in order to optimize memory managment\n",
    "schema = StructType([\n",
    "    StructField(\"DayNum\", FloatType(), True),\n",
    "    StructField(\"VehId\", IntegerType(), True),\n",
    "    StructField(\"Trip\", StringType(), True),\n",
    "    StructField(\"Timestamp(ms)\", IntegerType(), True),\n",
    "    StructField(\"Latitude[deg]\", FloatType(), True),\n",
    "    StructField(\"Longitude[deg]\", FloatType(), True),\n",
    "    StructField(\"Vehicle Speed[km/h]\", FloatType(), False),\n",
    "    StructField(\"MAF[g/sec]\", FloatType(), True),\n",
    "    StructField(\"Absolute Load[%]\", FloatType(), True),\n",
    "    StructField(\"OAT[DegC]\", StringType(), True),\n",
    "    StructField(\"Fuel Rate[L/hr]\", StringType(), True),\n",
    "    StructField(\"Air Conditioning Power[kW]\", StringType(), True),\n",
    "    StructField(\"Air Conditioning Power[Watts]\", StringType(), True),\n",
    "    StructField(\"Heater Power[Watts]\", StringType(), True),\n",
    "    StructField(\"HV Battery Current[A]\", StringType(), True),\n",
    "    StructField(\"HV Battery SOC[%]\", StringType(), True),\n",
    "    StructField(\"HV Battery Voltage[V]\", StringType(), True),\n",
    "    StructField(\"Short Term Fuel Trim Bank 1[%]\", StringType(), True),\n",
    "    StructField(\"Short Term Fuel Trim Bank 2[%]\", StringType(), True),\n",
    "    StructField(\"Long Term Fuel Trim Bank 1[%]\", StringType(), True),\n",
    "    StructField(\"Long Term Fuel Trim Bank 2[%]\", StringType(), True)\n",
    "])\n",
    "\n",
    "# Read all dynamic csvs into one spark dataframe\n",
    "df = spark.read.option('header', 'true') \\\n",
    "        .csv('/home/lucas/Projects/tblx-challenge/data/part1/dynamic-data/*.csv', schema=schema)\n",
    "\n",
    "# Keeping only the needed columns\n",
    "df = df.select([\"DayNum\", \"VehId\", \"Timestamp(ms)\", \"Latitude[deg]\", \"Longitude[deg]\", \"Vehicle Speed[km/h]\"])\n",
    "\n",
    "# Replace the string \"NaN\" with null values\n",
    "df = df.replace(\"NaN\", None)\n",
    "\n",
    "# Drop rows where all values are null (sanity check)\n",
    "df = df.na.drop(how=\"all\")\n",
    "\n",
    "# Get a sample of the dataframe (using just the first two weeks here)\n",
    "first_two_weeks = df.na.drop() \\\n",
    "    .filter((df.DayNum >= 1) & (df.DayNum < 15)) \\\n",
    "    .orderBy([\"VehId\", \"DayNum\", \"Timestamp(ms)\"])"
   ]
  },
  {
   "cell_type": "markdown",
   "metadata": {},
   "source": [
    "Looking at the data the pair (DayNum, VehId) seems to define a trip\n",
    "\n",
    "## 1- Defining stopping location\n",
    "\n",
    "A stopping location could viewed as be a pair of (lat, long) where a trip begins (i.e. timestamp 0) or ends (i.e. maximum timestamp for that trip). This is identical to grouping by the pair of DayNum, VehId (that identifies a trip) and taking the first and last latitude and longitude of each group since rows are also sorted by their timestamp (as specified in the cell above)\n",
    "\n",
    "However we see the anonymization process in action where the a trip starts and ends with a speed > 0, indicating that the trajectories prior to $t_{min}$ and $t_{max}$ are supressed as stated in the paper"
   ]
  },
  {
   "cell_type": "code",
   "execution_count": 4,
   "metadata": {},
   "outputs": [],
   "source": [
    "grouped = first_two_weeks.groupBy([\"DayNum\", \"VehId\"])\n",
    "\n",
    "# Expression to obtain the median function of the vehicle speed\n",
    "median_function = expr('percentile_approx(`Vehicle Speed[km/h]`, 0.5)')\n",
    "\n",
    "# Get the first and last lat, long and the avg/median speed for each pair of (DayNum, VehId)\n",
    "start_locations = grouped.agg(\n",
    "    first(\"Latitude[deg]\").alias(\"Latitude\"),\n",
    "    first(\"Longitude[deg]\").alias(\"Longitude\"),\n",
    "    mean(\"Vehicle Speed[km/h]\").alias(\"Average_speed\"),\n",
    "    median_function.alias(\"Median_Speed\")\n",
    ")\n",
    "\n",
    "end_locations = grouped.agg(\n",
    "    last(\"Latitude[deg]\").alias(\"Latitude\"),\n",
    "    last(\"Longitude[deg]\").alias(\"Longitude\"),\n",
    "    mean(\"Vehicle Speed[km/h]\").alias(\"Average_speed\"),\n",
    "    median_function.alias(\"Median_Speed\")\n",
    ")\n",
    "\n",
    "# Join the two dataframes together so we have a list of stopping locations (either start or end) and the \n",
    "# avg/median speed for every trip\n",
    "# .distinct() to remove already existing stopping locations\n",
    "stopping_locations = start_locations.unionAll(end_locations).distinct()"
   ]
  },
  {
   "cell_type": "markdown",
   "metadata": {},
   "source": [
    "## 2- What are the most popular stopping locations? How many vehicles start or end their trips there?\n",
    "\n",
    "First define the bounding box coordinates by adding and subtracting 0.0025º to lat and long and rounding the result to 3 decimal places. Rounding the result will allow for points in close locations to have the same bounding box coordinates.\n",
    "\n",
    "Here the popularity of a location will be measured by the number of distinct vehicles that start or end their trip their. It is important to consider the distinct number of vehicles that start or end their trips in this location rather than just the total number of trips, in order to make sure we are not influenced by a large number of trips that only a small number of users make (for example: only a small X percent of the users going to the supermarket everyday)."
   ]
  },
  {
   "cell_type": "code",
   "execution_count": 5,
   "metadata": {},
   "outputs": [
    {
     "name": "stdout",
     "output_type": "stream",
     "text": [
      "+-------+----------+--------+---------+-------------------+---------+\n",
      "|top_box|bottom_box|left_box|right_box|num_unique_vehicles|num_stops|\n",
      "+-------+----------+--------+---------+-------------------+---------+\n",
      "| 42.277|    42.272| -83.672|  -83.677|                 44|      121|\n",
      "| 42.255|     42.25| -83.672|  -83.677|                 36|       54|\n",
      "| 42.233|    42.228| -83.678|  -83.683|                 33|       67|\n",
      "+-------+----------+--------+---------+-------------------+---------+\n",
      "only showing top 3 rows\n",
      "\n"
     ]
    }
   ],
   "source": [
    "# Create the bounding box coordinates for each row\n",
    "# Boxing the coordinates with +- 0.0025 which translates to around 200m around the original point\n",
    "stopping_locations = stopping_locations \\\n",
    "                        .withColumn(\"top_box\", round(col(\"Latitude\") + 0.0025, 3)) \\\n",
    "                        .withColumn(\"bottom_box\", round(col(\"Latitude\") - 0.0025, 3)) \\\n",
    "                        .withColumn(\"left_box\", round(col(\"Longitude\") + 0.0025, 3)) \\\n",
    "                        .withColumn(\"right_box\", round(col(\"Longitude\") - 0.0025, 3))\n",
    "\n",
    "# The most popular stopping locations here are those locations with the most visits by distinct vehicles\n",
    "stopping_locations \\\n",
    "    .groupBy([\"top_box\", \"bottom_box\", \"left_box\", \"right_box\"]) \\\n",
    "    .agg(countDistinct(\"VehId\").alias(\"num_unique_vehicles\"), count(\"VehId\").alias(\"num_stops\")) \\\n",
    "    .sort(col(\"num_unique_vehicles\").desc()) \\\n",
    "    .show(3)"
   ]
  },
  {
   "cell_type": "markdown",
   "metadata": {},
   "source": [
    "From this we can see that the most popular stopping location has had 121 trips start or end in it, with 44 distinct vehicles. Looking at the map this location seems to be around Concordia University Ann Arbor\n",
    "\n",
    "## 3- What is the most frequent trip?"
   ]
  },
  {
   "cell_type": "code",
   "execution_count": 8,
   "metadata": {},
   "outputs": [
    {
     "name": "stdout",
     "output_type": "stream",
     "text": [
      "+--------+---------+------------+-------------+----------------+---------+\n",
      "|Latitude|Longitude|End_latitude|End_longitude|num_unique_trips|num_trips|\n",
      "+--------+---------+------------+-------------+----------------+---------+\n",
      "|  42.309|  -83.677|      42.303|      -83.704|               5|        5|\n",
      "+--------+---------+------------+-------------+----------------+---------+\n",
      "only showing top 1 row\n",
      "\n"
     ]
    }
   ],
   "source": [
    "# rename lat and long column of end_locations and join the two dataframes on DayNum and VehId\n",
    "# Also round coordinates to 3 decimal places\n",
    "# Droping the average and median speed from end_locations since start_locations already has that same info\n",
    "trips_df = start_locations \\\n",
    "    .join(\n",
    "        end_locations \\\n",
    "            .drop(\"Average_Speed\", \"Median_Speed\")\\\n",
    "            .withColumnRenamed(\"Latitude\", \"End_latitude\") \\\n",
    "            .withColumnRenamed(\"Longitude\", \"End_longitude\"),\n",
    "        [\"DayNum\", \"VehId\"]\n",
    "    ) \\\n",
    "    .withColumn(\"Latitude\", round(col(\"Latitude\"), 3)) \\\n",
    "    .withColumn(\"Longitude\", round(col(\"Longitude\"), 3)) \\\n",
    "    .withColumn(\"End_latitude\", round(col(\"End_latitude\"), 3)) \\\n",
    "    .withColumn(\"End_longitude\", round(col(\"End_longitude\"), 3))\n",
    "\n",
    "# Get the trip with the largest value of trips by distinct vehicles\n",
    "trips_df \\\n",
    "    .groupBy([\"Latitude\", \"Longitude\", \"End_latitude\", \"End_longitude\"]) \\\n",
    "    .agg(countDistinct(\"VehId\").alias(\"num_unique_trips\"), count(\"VehId\").alias(\"num_trips\")) \\\n",
    "    .orderBy([\"num_trips\", \"num_unique_trips\"], ascending=False) \\\n",
    "    .show(1)"
   ]
  },
  {
   "cell_type": "markdown",
   "metadata": {},
   "source": [
    "The most frequent trip has been made 5 times by 5 different vehicles.\n",
    "\n",
    "Looking at this trip in a map we can see this trip begins in a comercial area and ends in the east campus of the University of Michigan. The trips starts near a starbucks and a McDonald's so I'm guessing these are 5 different people who all went out to lunch and a coffee before going to college :)"
   ]
  },
  {
   "cell_type": "code",
   "execution_count": 12,
   "metadata": {},
   "outputs": [
    {
     "name": "stdout",
     "output_type": "stream",
     "text": [
      "+--------+-----+--------+---------+------------------+------------+------------+-------------+\n",
      "|  DayNum|VehId|Latitude|Longitude|     Average_speed|Median_Speed|End_latitude|End_longitude|\n",
      "+--------+-----+--------+---------+------------------+------------+------------+-------------+\n",
      "|12.91785|  285|  42.274|  -83.675|2.6194029850746268|         0.0|      42.274|      -83.674|\n",
      "|8.384305|  557|  42.288|  -83.747|104.56752873563218|       117.0|      42.239|      -83.738|\n",
      "+--------+-----+--------+---------+------------------+------------+------------+-------------+\n",
      "\n"
     ]
    }
   ],
   "source": [
    "result_query = trips_df \\\n",
    "    .select(min(\"Average_Speed\"), max(\"Average_Speed\"), min(\"Median_Speed\"), max(\"Median_Speed\")) \\\n",
    "    .collect()[0]\n",
    "\n",
    "min_avg_speed, max_avg_speed = result_query[\"min(Average_Speed)\"], result_query[\"max(Average_Speed)\"]\n",
    "min_median_speed, max_median_speed = result_query[\"min(Median_Speed)\"], result_query[\"max(Median_Speed)\"]\n",
    "\n",
    "trips_df \\\n",
    "    .where((trips_df[\"Average_Speed\"] == min_avg_speed) | (trips_df[\"Average_Speed\"] == max_avg_speed)) \\\n",
    "    .show()"
   ]
  },
  {
   "cell_type": "markdown",
   "metadata": {},
   "source": [
    "Here we can see the the lowest average speed in a trip was around 2 km/h and the highest average speed in a trip was around 104 km/h. However in cases such as speed it might prove more informative to use the median instead of the average since the average can be heavily influence by outliers (such as stopping, or speeding in a highway)"
   ]
  },
  {
   "cell_type": "code",
   "execution_count": 13,
   "metadata": {},
   "outputs": [
    {
     "name": "stdout",
     "output_type": "stream",
     "text": [
      "+---------+-----+--------+---------+------------------+------------+------------+-------------+\n",
      "|   DayNum|VehId|Latitude|Longitude|     Average_speed|Median_Speed|End_latitude|End_longitude|\n",
      "+---------+-----+--------+---------+------------------+------------+------------+-------------+\n",
      "|7.7071733|  269|  42.257|  -83.696|18.852601156069365|         0.0|      42.231|       -83.68|\n",
      "|1.4773134|  189|  42.269|  -83.747|5.8647373387857815|         0.0|      42.269|      -83.747|\n",
      "|4.3980327|  163|  42.245|  -83.703|13.918650793650794|         0.0|      42.246|      -83.681|\n",
      "|11.116269|  195|  42.289|  -83.747| 8.808783165599268|         0.0|      42.291|       -83.74|\n",
      "|3.7202237|  163|  42.245|   -83.68| 9.384969325153374|         0.0|      42.253|      -83.676|\n",
      "|10.532848|  189|  42.269|  -83.747| 5.963488843813387|         0.0|      42.272|      -83.745|\n",
      "| 4.937109|  547|  42.245|  -83.694| 17.31063829787234|         0.0|      42.246|      -83.681|\n",
      "| 12.91785|  285|  42.274|  -83.675|2.6194029850746268|         0.0|      42.274|      -83.674|\n",
      "|6.0241513|  208|  42.256|   -83.69|10.045698924731182|         0.0|      42.246|      -83.681|\n",
      "| 8.384305|  557|  42.288|  -83.747|104.56752873563218|       117.0|      42.239|      -83.738|\n",
      "|13.925435|  179|  42.245|    -83.7|3.6666666666666665|         0.0|      42.245|      -83.701|\n",
      "+---------+-----+--------+---------+------------------+------------+------------+-------------+\n",
      "\n"
     ]
    }
   ],
   "source": [
    "trips_df \\\n",
    "    .where((trips_df[\"Median_Speed\"] == min_median_speed) | (trips_df[\"Median_Speed\"] == max_median_speed)) \\\n",
    "    .show()"
   ]
  },
  {
   "cell_type": "markdown",
   "metadata": {},
   "source": [
    "We see that the results for the median speed don't differ that much from the average speed. Actually both the maximum and the minimum median speed coincide with the results for the average. This might be because a portion of the start and end of the trip is supressed and so they rarely start at 0, diminishing the outliers that might influence the average.\n",
    "\n",
    "However we also get some additional information. Looking at, for example, the first row (with `VehId == 269`) we see that the average speed is 18.9 but the median is 0. These are cases of trips were the driver was stopped (`speed==0`) for the majority of the trip and was only moving for a small part of the trip. This could lead us to investigate these cases further to search for a specific pattern"
   ]
  }
 ],
 "metadata": {
  "kernelspec": {
   "display_name": "Python 3",
   "language": "python",
   "name": "python3"
  },
  "language_info": {
   "codemirror_mode": {
    "name": "ipython",
    "version": 3
   },
   "file_extension": ".py",
   "mimetype": "text/x-python",
   "name": "python",
   "nbconvert_exporter": "python",
   "pygments_lexer": "ipython3",
   "version": "3.7.3"
  }
 },
 "nbformat": 4,
 "nbformat_minor": 4
}
